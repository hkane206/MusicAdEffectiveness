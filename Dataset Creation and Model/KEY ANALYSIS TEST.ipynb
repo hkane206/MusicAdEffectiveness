{
 "cells": [
  {
   "cell_type": "code",
   "execution_count": 2,
   "metadata": {},
   "outputs": [],
   "source": [
    "import numpy as np\n",
    "import pandas as pd\n",
    "import youtube_dl"
   ]
  },
  {
   "cell_type": "markdown",
   "metadata": {},
   "source": [
    "# Downloading all mp3 files"
   ]
  },
  {
   "cell_type": "code",
   "execution_count": 3,
   "metadata": {},
   "outputs": [],
   "source": [
    "# Downloading videos in dataset as mp3 file\n",
    "\n",
    "links = [x.strip() for x in open(\"inputs.txt\", \"r\").readlines()]\n",
    "\n",
    "ydl_opts = {\n",
    "    \"ignoreerrors\": True,\n",
    "    \"format\": \"bestaudio/best\",\n",
    "    \"forcefilename\": True,\n",
    "    \"outtmpl\": \"%(id)s.%(ext)s\",\n",
    "    \"postprocessors\": [{\n",
    "        \"key\": \"FFmpegExtractAudio\",\n",
    "        \"preferredcodec\":\"mp3\",\n",
    "        \"preferredquality\": \"320\",\n",
    "    }],\n",
    "}\n",
    "\n",
    "with youtube_dl.YoutubeDL(ydl_opts) as ydl:\n",
    "    ydl.download(links)"
   ]
  },
  {
   "cell_type": "markdown",
   "metadata": {},
   "source": [
    "# Preliminary Analysis"
   ]
  },
  {
   "cell_type": "code",
   "execution_count": 63,
   "metadata": {},
   "outputs": [
    {
     "name": "stdout",
     "output_type": "stream",
     "text": [
      "2388 ads will be used in the analysis.\n",
      "1089 were excluded because downloading the video was not possible.\n"
     ]
    }
   ],
   "source": [
    "total_success = 0\n",
    "for trial in success_fail:\n",
    "    if trial == \"Download succeeded\":\n",
    "        total_success += 1\n",
    "\n",
    "print(str(total_success) + \" ads will be used in the analysis.\")\n",
    "print(str(len(success_fail) - total_success) + \" were excluded because downloading the video was not possible.\")"
   ]
  }
 ],
 "metadata": {
  "kernelspec": {
   "display_name": "Python 3",
   "language": "python",
   "name": "python3"
  },
  "language_info": {
   "codemirror_mode": {
    "name": "ipython",
    "version": 3
   },
   "file_extension": ".py",
   "mimetype": "text/x-python",
   "name": "python",
   "nbconvert_exporter": "python",
   "pygments_lexer": "ipython3",
   "version": "3.8.5"
  }
 },
 "nbformat": 4,
 "nbformat_minor": 4
}
