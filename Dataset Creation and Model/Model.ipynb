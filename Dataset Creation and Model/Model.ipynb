{
 "cells": [
  {
   "cell_type": "markdown",
   "metadata": {},
   "source": [
    "# Model\n",
    "\n",
    "Each function is one of the classifiers (trained using sklearn)"
   ]
  },
  {
   "cell_type": "code",
   "execution_count": 50,
   "metadata": {},
   "outputs": [],
   "source": [
    "import numpy as np\n",
    "import pandas as pd\n",
    "import matplotlib.pyplot as plt\n",
    "import csv\n",
    "from sklearn.model_selection import train_test_split\n",
    "from sklearn.metrics import roc_auc_score, roc_curve, confusion_matrix\n",
    "from sklearn.metrics import accuracy_score, precision_score, recall_score, f1_score\n",
    "import seaborn as sns\n",
    "pd.set_option('display.max_columns', None)"
   ]
  },
  {
   "cell_type": "markdown",
   "metadata": {},
   "source": [
    "## General"
   ]
  },
  {
   "cell_type": "code",
   "execution_count": 2,
   "metadata": {},
   "outputs": [],
   "source": [
    "def clean_dataset(df):\n",
    "    assert isinstance(df, pd.DataFrame), \"df needs to be a pd.DataFrame\"\n",
    "    df.dropna(inplace=True)\n",
    "    indices_to_keep = ~df.isin([np.nan, np.inf, -np.inf]).any(1)\n",
    "    return df[indices_to_keep].astype(np.float64)"
   ]
  },
  {
   "cell_type": "code",
   "execution_count": 3,
   "metadata": {},
   "outputs": [],
   "source": [
    "def load_model(data, effectiveness_index):\n",
    "\n",
    "    data = clean_dataset(data)\n",
    "    y = data[effectiveness_index]\n",
    "    y = [int(x) for x in y]\n",
    "    data.drop(effectiveness_index, inplace = True, axis = 1)\n",
    "    X = data\n",
    "    \n",
    "    X_train, X_test, y_train, y_test = train_test_split(X, y, test_size = 0.2)\n",
    "    \n",
    "    return X_train, y_train, X_test, y_test"
   ]
  },
  {
   "cell_type": "code",
   "execution_count": 51,
   "metadata": {},
   "outputs": [],
   "source": [
    "def analyze_model(X_test, y_test, y_pred):\n",
    "    \n",
    "    print('\\nAccuracy: {:.2f}\\n'.format(accuracy_score(y_test, y_pred)))\n",
    "\n",
    "    print('Micro Precision: {:.2f}'.format(precision_score(y_test, y_pred, average='micro', zero_division = 0)))\n",
    "    print('Micro Recall: {:.2f}'.format(recall_score(y_test, y_pred, average='micro', zero_division = 0)))\n",
    "    print('Micro F1-score: {:.2f}\\n'.format(f1_score(y_test, y_pred, average='micro', zero_division = 0)))\n",
    "\n",
    "    print('Macro Precision: {:.2f}'.format(precision_score(y_test, y_pred, average='macro', zero_division = 0)))\n",
    "    print('Macro Recall: {:.2f}'.format(recall_score(y_test, y_pred, average='macro', zero_division = 0)))\n",
    "    print('Macro F1-score: {:.2f}\\n'.format(f1_score(y_test, y_pred, average='macro', zero_division = 0)))\n",
    "\n",
    "    print('Weighted Precision: {:.2f}'.format(precision_score(y_test, y_pred, average='weighted', zero_division = 0)))\n",
    "    print('Weighted Recall: {:.2f}'.format(recall_score(y_test, y_pred, average='weighted', zero_division = 0)))\n",
    "    print('Weighted F1-score: {:.2f}'.format(f1_score(y_test, y_pred, average='weighted', zero_division = 0)))\n",
    "\n",
    "    from sklearn.metrics import classification_report\n",
    "    print('\\nClassification Report\\n')\n",
    "    print(classification_report(y_test, y_pred, target_names=[\"0\", \"1\"], zero_division = 0))\n",
    "    \n",
    "    # Confusion Matrix (not shown in paper)\n",
    "    import seaborn as sns\n",
    "    confusion = confusion_matrix(y_test, y_pred)\n",
    "    sns.heatmap(confusion/np.sum(confusion), annot=True, fmt='.2%', cmap='Blues')\n",
    "    plt.show()\n"
   ]
  },
  {
   "cell_type": "code",
   "execution_count": 52,
   "metadata": {},
   "outputs": [],
   "source": [
    "def roc(y_test, y_pred, model):\n",
    "    \n",
    "    # Create roc curve (not shown in paper)\n",
    "    r_probs = [0 for _ in range(len(y_test))]\n",
    "    r_auc = roc_auc_score(y_test, y_pred)\n",
    "    r_fpr, r_tpr, _ = roc_curve(y_test, r_probs)\n",
    "    clf_auc = roc_auc_score(y_test, y_pred) \n",
    "    clf_fpr, clf_tpr, _ = roc_curve(y_test, y_pred)\n",
    "    \n",
    "    plt.plot(r_fpr, r_tpr, linestyle='--', label='Random prediction (AUC = %0.3f)' % r_auc)\n",
    "    plt.plot(clf_fpr, clf_tpr, marker='.', label=model + ' (AUC = %0.3f)' % clf_auc)\n",
    "\n",
    "    # Title\n",
    "    plt.title('ROC Plot')\n",
    "    # Axis labels\n",
    "    plt.xlabel('False Positive Rate')\n",
    "    plt.ylabel('True Positive Rate')\n",
    "    # Show legend\n",
    "    plt.legend() # \n",
    "    # Show plot\n",
    "    plt.show()"
   ]
  },
  {
   "cell_type": "markdown",
   "metadata": {},
   "source": [
    "## Logistic Regression"
   ]
  },
  {
   "cell_type": "code",
   "execution_count": 53,
   "metadata": {},
   "outputs": [],
   "source": [
    "from sklearn.linear_model import LogisticRegression\n",
    "\n",
    "def logistic_regression(path_name, effectiveness_index):\n",
    "\n",
    "    X_train, y_train, X_test, y_test = load_model(path_name, effectiveness_index)\n",
    "\n",
    "    logisticRegr = LogisticRegression()\n",
    "    logisticRegr.fit(X_train, y_train)\n",
    "    y_pred = logisticRegr.predict(X_test)\n",
    "    \n",
    "    analyze_model(X_test, y_test, y_pred)\n",
    "    \n",
    "    roc(y_test, y_pred, \"Logistic Regression\")\n",
    "            \n",
    "    return y_pred"
   ]
  },
  {
   "cell_type": "markdown",
   "metadata": {},
   "source": [
    "## Naive Bayes"
   ]
  },
  {
   "cell_type": "code",
   "execution_count": 7,
   "metadata": {},
   "outputs": [],
   "source": [
    "from sklearn.naive_bayes import GaussianNB\n",
    "\n",
    "def naive_bayes(path_name, effectiveness_index):\n",
    "    \n",
    "    X_train, y_train, X_test, y_test = load_model(path_name, effectiveness_index)\n",
    "    \n",
    "    gnb = GaussianNB()\n",
    "    gnb.fit(X_train, y_train)\n",
    "    y_pred = gnb.predict(X_test)\n",
    "    \n",
    "    analyze_model(X_test, y_test, y_pred)\n",
    "    \n",
    "    roc(y_test, y_pred, \"Naive Bayes\")\n",
    "        \n",
    "    return y_pred"
   ]
  },
  {
   "cell_type": "markdown",
   "metadata": {},
   "source": [
    "## SVM"
   ]
  },
  {
   "cell_type": "code",
   "execution_count": 8,
   "metadata": {},
   "outputs": [],
   "source": [
    "from sklearn import svm\n",
    "\n",
    "def support_vector(path_name, effectiveness_index):\n",
    "    \n",
    "    X_train, y_train, X_test, y_test = load_model(path_name, effectiveness_index)\n",
    "        \n",
    "    clf = svm.SVC(kernel=\"rbf\")\n",
    "    clf.fit(X_train, y_train)\n",
    "    y_pred = clf.predict(X_test)\n",
    "\n",
    "    analyze_model(X_test, y_test, y_pred)\n",
    "\n",
    "    roc(y_test, y_pred, \"Support Vector Machine\")\n",
    "    \n",
    "    return y_pred"
   ]
  },
  {
   "cell_type": "markdown",
   "metadata": {},
   "source": [
    "## Decision Tree"
   ]
  },
  {
   "cell_type": "code",
   "execution_count": 9,
   "metadata": {},
   "outputs": [],
   "source": [
    "from sklearn.tree import DecisionTreeClassifier\n",
    "\n",
    "def decision_tree(path_name, effectiveness_index):\n",
    "    \n",
    "    X_train, y_train, X_test, y_test = load_model(path_name, effectiveness_index)\n",
    "\n",
    "    clf = DecisionTreeClassifier()\n",
    "    tree = clf.fit(X_train, y_train)\n",
    "    y_pred = clf.predict(X_test)\n",
    "    \n",
    "    analyze_model(X_test, y_test, y_pred)\n",
    "    \n",
    "    roc(y_test, y_pred, \"Decision Tree\")\n",
    "    \n",
    "    return y_pred"
   ]
  },
  {
   "cell_type": "markdown",
   "metadata": {},
   "source": [
    "# Random Forest"
   ]
  },
  {
   "cell_type": "code",
   "execution_count": 10,
   "metadata": {},
   "outputs": [],
   "source": [
    "from sklearn.ensemble import RandomForestClassifier\n",
    "\n",
    "def random_forest(path_name, effectiveness_index):\n",
    "    \n",
    "    X_train, y_train, X_test, y_test = load_model(path_name, effectiveness_index)\n",
    "    \n",
    "    clf = RandomForestClassifier()\n",
    "    clf.fit(X_train, y_train)\n",
    "    y_pred = clf.predict(X_test)\n",
    "    \n",
    "    analyze_model(X_test, y_test, y_pred)\n",
    "    \n",
    "    roc(y_test, y_pred, \"Random Forest\")\n",
    "    \n",
    "    return y_pred"
   ]
  },
  {
   "cell_type": "markdown",
   "metadata": {},
   "source": [
    "## Hybridization"
   ]
  },
  {
   "cell_type": "code",
   "execution_count": 11,
   "metadata": {},
   "outputs": [],
   "source": [
    "def hybridize(*models):\n",
    "    \n",
    "    X_train, y_train, X_test, y_test = load_model(new_data, \"Effectiveness Mod\")\n",
    "    \n",
    "    total = 0\n",
    "    for model in models:\n",
    "            \n",
    "        total += model\n",
    "        \n",
    "    y_pred = [int(i >= 3) for i in total]\n",
    "        \n",
    "    analyze_model(X_test, y_test, y_pred)\n",
    "    \n",
    "    roc(y_test, y_pred, \"Hybridized\")\n",
    "    "
   ]
  },
  {
   "cell_type": "markdown",
   "metadata": {},
   "source": [
    "# Implementation"
   ]
  },
  {
   "cell_type": "code",
   "execution_count": 22,
   "metadata": {},
   "outputs": [
    {
     "data": {
      "text/html": [
       "<div>\n",
       "<style scoped>\n",
       "    .dataframe tbody tr th:only-of-type {\n",
       "        vertical-align: middle;\n",
       "    }\n",
       "\n",
       "    .dataframe tbody tr th {\n",
       "        vertical-align: top;\n",
       "    }\n",
       "\n",
       "    .dataframe thead th {\n",
       "        text-align: right;\n",
       "    }\n",
       "</style>\n",
       "<table border=\"1\" class=\"dataframe\">\n",
       "  <thead>\n",
       "    <tr style=\"text-align: right;\">\n",
       "      <th></th>\n",
       "      <th>Shot_Boundary</th>\n",
       "      <th>Duration</th>\n",
       "      <th>Entropy</th>\n",
       "      <th>Average_Intensities</th>\n",
       "      <th>Average_Intensities_30</th>\n",
       "      <th>Average_Intensities_60</th>\n",
       "      <th>Optical_Flow</th>\n",
       "      <th>Funny</th>\n",
       "      <th>Average_Memorability</th>\n",
       "      <th>Topics</th>\n",
       "      <th>Exciting</th>\n",
       "      <th>Sentiments</th>\n",
       "      <th>Entropy.1</th>\n",
       "      <th>Optical_Flow.1</th>\n",
       "      <th>Exciting.1</th>\n",
       "      <th>Funny.1</th>\n",
       "      <th>Average_Memorability.1</th>\n",
       "      <th>Language</th>\n",
       "      <th>Topics.1</th>\n",
       "      <th>Sentiments.1</th>\n",
       "      <th>BPM</th>\n",
       "      <th>A</th>\n",
       "      <th>B</th>\n",
       "      <th>C</th>\n",
       "      <th>D</th>\n",
       "      <th>E</th>\n",
       "      <th>F</th>\n",
       "      <th>G</th>\n",
       "      <th>Major/Minor</th>\n",
       "      <th>Sharp/Flat</th>\n",
       "      <th>Effectiveness</th>\n",
       "    </tr>\n",
       "  </thead>\n",
       "  <tbody>\n",
       "    <tr>\n",
       "      <th>0</th>\n",
       "      <td>19</td>\n",
       "      <td>48</td>\n",
       "      <td>0.968461</td>\n",
       "      <td>0.358354</td>\n",
       "      <td>0.417023</td>\n",
       "      <td>0.474382</td>\n",
       "      <td>8.044019e+05</td>\n",
       "      <td>0.4</td>\n",
       "      <td>0.725416</td>\n",
       "      <td>36</td>\n",
       "      <td>0.4</td>\n",
       "      <td>11</td>\n",
       "      <td>0.968461</td>\n",
       "      <td>8.044019e+05</td>\n",
       "      <td>0.4</td>\n",
       "      <td>0.4</td>\n",
       "      <td>0.725416</td>\n",
       "      <td>1.0</td>\n",
       "      <td>36</td>\n",
       "      <td>11</td>\n",
       "      <td>93</td>\n",
       "      <td>0</td>\n",
       "      <td>0</td>\n",
       "      <td>0</td>\n",
       "      <td>1</td>\n",
       "      <td>0</td>\n",
       "      <td>0</td>\n",
       "      <td>0</td>\n",
       "      <td>0</td>\n",
       "      <td>0</td>\n",
       "      <td>4</td>\n",
       "    </tr>\n",
       "    <tr>\n",
       "      <th>1</th>\n",
       "      <td>35</td>\n",
       "      <td>38</td>\n",
       "      <td>0.398459</td>\n",
       "      <td>0.267378</td>\n",
       "      <td>0.357319</td>\n",
       "      <td>0.327957</td>\n",
       "      <td>1.787684e+06</td>\n",
       "      <td>1.0</td>\n",
       "      <td>0.724435</td>\n",
       "      <td>27</td>\n",
       "      <td>1.0</td>\n",
       "      <td>6</td>\n",
       "      <td>0.398459</td>\n",
       "      <td>1.787684e+06</td>\n",
       "      <td>1.0</td>\n",
       "      <td>1.0</td>\n",
       "      <td>0.724435</td>\n",
       "      <td>1.0</td>\n",
       "      <td>27</td>\n",
       "      <td>6</td>\n",
       "      <td>136</td>\n",
       "      <td>1</td>\n",
       "      <td>0</td>\n",
       "      <td>0</td>\n",
       "      <td>0</td>\n",
       "      <td>0</td>\n",
       "      <td>0</td>\n",
       "      <td>0</td>\n",
       "      <td>1</td>\n",
       "      <td>0</td>\n",
       "      <td>2</td>\n",
       "    </tr>\n",
       "    <tr>\n",
       "      <th>2</th>\n",
       "      <td>13</td>\n",
       "      <td>31</td>\n",
       "      <td>0.981152</td>\n",
       "      <td>0.298359</td>\n",
       "      <td>0.271681</td>\n",
       "      <td>0.305467</td>\n",
       "      <td>1.278895e+06</td>\n",
       "      <td>0.4</td>\n",
       "      <td>0.724163</td>\n",
       "      <td>21</td>\n",
       "      <td>0.0</td>\n",
       "      <td>30</td>\n",
       "      <td>0.981152</td>\n",
       "      <td>1.278895e+06</td>\n",
       "      <td>0.0</td>\n",
       "      <td>0.4</td>\n",
       "      <td>0.724163</td>\n",
       "      <td>1.0</td>\n",
       "      <td>21</td>\n",
       "      <td>30</td>\n",
       "      <td>99</td>\n",
       "      <td>0</td>\n",
       "      <td>0</td>\n",
       "      <td>0</td>\n",
       "      <td>1</td>\n",
       "      <td>0</td>\n",
       "      <td>0</td>\n",
       "      <td>0</td>\n",
       "      <td>0</td>\n",
       "      <td>1</td>\n",
       "      <td>3</td>\n",
       "    </tr>\n",
       "    <tr>\n",
       "      <th>3</th>\n",
       "      <td>47</td>\n",
       "      <td>60</td>\n",
       "      <td>0.754034</td>\n",
       "      <td>0.436912</td>\n",
       "      <td>0.503742</td>\n",
       "      <td>0.498872</td>\n",
       "      <td>1.591243e+06</td>\n",
       "      <td>0.6</td>\n",
       "      <td>0.725703</td>\n",
       "      <td>9</td>\n",
       "      <td>0.8</td>\n",
       "      <td>5</td>\n",
       "      <td>0.754034</td>\n",
       "      <td>1.591243e+06</td>\n",
       "      <td>0.8</td>\n",
       "      <td>0.6</td>\n",
       "      <td>0.725703</td>\n",
       "      <td>1.0</td>\n",
       "      <td>9</td>\n",
       "      <td>5</td>\n",
       "      <td>137</td>\n",
       "      <td>0</td>\n",
       "      <td>0</td>\n",
       "      <td>0</td>\n",
       "      <td>1</td>\n",
       "      <td>0</td>\n",
       "      <td>0</td>\n",
       "      <td>0</td>\n",
       "      <td>1</td>\n",
       "      <td>1</td>\n",
       "      <td>3</td>\n",
       "    </tr>\n",
       "    <tr>\n",
       "      <th>4</th>\n",
       "      <td>11</td>\n",
       "      <td>35</td>\n",
       "      <td>0.898059</td>\n",
       "      <td>0.412479</td>\n",
       "      <td>0.387862</td>\n",
       "      <td>0.387570</td>\n",
       "      <td>6.150416e+05</td>\n",
       "      <td>0.8</td>\n",
       "      <td>0.725296</td>\n",
       "      <td>28</td>\n",
       "      <td>0.4</td>\n",
       "      <td>6</td>\n",
       "      <td>0.898059</td>\n",
       "      <td>6.150416e+05</td>\n",
       "      <td>0.4</td>\n",
       "      <td>0.8</td>\n",
       "      <td>0.725296</td>\n",
       "      <td>1.0</td>\n",
       "      <td>28</td>\n",
       "      <td>6</td>\n",
       "      <td>91</td>\n",
       "      <td>0</td>\n",
       "      <td>0</td>\n",
       "      <td>0</td>\n",
       "      <td>1</td>\n",
       "      <td>0</td>\n",
       "      <td>0</td>\n",
       "      <td>0</td>\n",
       "      <td>0</td>\n",
       "      <td>0</td>\n",
       "      <td>3</td>\n",
       "    </tr>\n",
       "  </tbody>\n",
       "</table>\n",
       "</div>"
      ],
      "text/plain": [
       "   Shot_Boundary  Duration   Entropy  Average_Intensities  \\\n",
       "0             19        48  0.968461             0.358354   \n",
       "1             35        38  0.398459             0.267378   \n",
       "2             13        31  0.981152             0.298359   \n",
       "3             47        60  0.754034             0.436912   \n",
       "4             11        35  0.898059             0.412479   \n",
       "\n",
       "   Average_Intensities_30  Average_Intensities_60  Optical_Flow  Funny  \\\n",
       "0                0.417023                0.474382  8.044019e+05    0.4   \n",
       "1                0.357319                0.327957  1.787684e+06    1.0   \n",
       "2                0.271681                0.305467  1.278895e+06    0.4   \n",
       "3                0.503742                0.498872  1.591243e+06    0.6   \n",
       "4                0.387862                0.387570  6.150416e+05    0.8   \n",
       "\n",
       "   Average_Memorability  Topics  Exciting  Sentiments  Entropy.1  \\\n",
       "0              0.725416      36       0.4          11   0.968461   \n",
       "1              0.724435      27       1.0           6   0.398459   \n",
       "2              0.724163      21       0.0          30   0.981152   \n",
       "3              0.725703       9       0.8           5   0.754034   \n",
       "4              0.725296      28       0.4           6   0.898059   \n",
       "\n",
       "   Optical_Flow.1  Exciting.1  Funny.1  Average_Memorability.1  Language  \\\n",
       "0    8.044019e+05         0.4      0.4                0.725416       1.0   \n",
       "1    1.787684e+06         1.0      1.0                0.724435       1.0   \n",
       "2    1.278895e+06         0.0      0.4                0.724163       1.0   \n",
       "3    1.591243e+06         0.8      0.6                0.725703       1.0   \n",
       "4    6.150416e+05         0.4      0.8                0.725296       1.0   \n",
       "\n",
       "   Topics.1  Sentiments.1  BPM  A  B  C  D  E  F  G  Major/Minor  Sharp/Flat  \\\n",
       "0        36            11   93  0  0  0  1  0  0  0            0           0   \n",
       "1        27             6  136  1  0  0  0  0  0  0            1           0   \n",
       "2        21            30   99  0  0  0  1  0  0  0            0           1   \n",
       "3         9             5  137  0  0  0  1  0  0  0            1           1   \n",
       "4        28             6   91  0  0  0  1  0  0  0            0           0   \n",
       "\n",
       "   Effectiveness  \n",
       "0              4  \n",
       "1              2  \n",
       "2              3  \n",
       "3              3  \n",
       "4              3  "
      ]
     },
     "execution_count": 22,
     "metadata": {},
     "output_type": "execute_result"
    }
   ],
   "source": [
    "#Uploading data\n",
    "data = pd.read_csv(\"/Users/harrisonkane/Downloads/annotations_videos/final data version 3.csv\")\n",
    "data.drop(labels = [i for i in range(1835, len(data))], inplace = True, axis = 0)\n",
    "data.drop(labels = [\"Average_Hue.1\", \"Median_Hue.1\"], inplace = True, axis = 1)\n",
    "data.drop(\"Videos\", inplace = True, axis = 1)\n",
    "new_data = data.drop(labels = [\"Median_Hue\", \"Average_Hue\"], inplace = False, axis = 1)\n",
    "new_data = new_data.iloc[:,:-3]\n",
    "\n",
    "new_data.head()"
   ]
  },
  {
   "cell_type": "code",
   "execution_count": 54,
   "metadata": {},
   "outputs": [
    {
     "name": "stdout",
     "output_type": "stream",
     "text": [
      "\n",
      "Accuracy: 0.89\n",
      "\n",
      "Micro Precision: 0.89\n",
      "Micro Recall: 0.89\n",
      "Micro F1-score: 0.89\n",
      "\n",
      "Macro Precision: 0.45\n",
      "Macro Recall: 0.50\n",
      "Macro F1-score: 0.47\n",
      "\n",
      "Weighted Precision: 0.80\n",
      "Weighted Recall: 0.89\n",
      "Weighted F1-score: 0.84\n",
      "\n",
      "Classification Report\n",
      "\n",
      "              precision    recall  f1-score   support\n",
      "\n",
      "           0       0.00      0.00      0.00        39\n",
      "           1       0.89      1.00      0.94       327\n",
      "\n",
      "    accuracy                           0.89       366\n",
      "   macro avg       0.45      0.50      0.47       366\n",
      "weighted avg       0.80      0.89      0.84       366\n",
      "\n"
     ]
    },
    {
     "data": {
      "image/png": "[encoded data removed]",
      "text/plain": [
       "<Figure size 432x288 with 2 Axes>"
      ]
     },
     "metadata": {
      "needs_background": "light"
     },
     "output_type": "display_data"
    },
    {
     "data": {
      "image/png": "[encoded data removed]",
      "text/plain": [
       "<Figure size 432x288 with 1 Axes>"
      ]
     },
     "metadata": {
      "needs_background": "light"
     },
     "output_type": "display_data"
    }
   ],
   "source": [
    "#Logistic Regression\n",
    "\n",
    "new_data[\"Effectiveness Mod\"] = [int(x >= 3) for x in new_data[\"Effectiveness\"]]\n",
    "\n",
    "\n",
    "# Logistic Regression\n",
    "LR = logistic_regression(new_data, \"Effectiveness Mod\")"
   ]
  },
  {
   "cell_type": "code",
   "execution_count": 55,
   "metadata": {},
   "outputs": [
    {
     "name": "stdout",
     "output_type": "stream",
     "text": [
      "\n",
      "Accuracy: 0.85\n",
      "\n",
      "Micro Precision: 0.85\n",
      "Micro Recall: 0.85\n",
      "Micro F1-score: 0.85\n",
      "\n",
      "Macro Precision: 0.43\n",
      "Macro Recall: 0.50\n",
      "Macro F1-score: 0.46\n",
      "\n",
      "Weighted Precision: 0.73\n",
      "Weighted Recall: 0.85\n",
      "Weighted F1-score: 0.79\n",
      "\n",
      "Classification Report\n",
      "\n",
      "              precision    recall  f1-score   support\n",
      "\n",
      "           0       0.00      0.00      0.00        53\n",
      "           1       0.85      1.00      0.92       313\n",
      "\n",
      "    accuracy                           0.85       366\n",
      "   macro avg       0.43      0.50      0.46       366\n",
      "weighted avg       0.73      0.85      0.79       366\n",
      "\n"
     ]
    },
    {
     "data": {
      "image/png": "[encoded data removed]",
      "text/plain": [
       "<Figure size 432x288 with 2 Axes>"
      ]
     },
     "metadata": {
      "needs_background": "light"
     },
     "output_type": "display_data"
    },
    {
     "data": {
      "image/png": "[encoded data removed]",
      "text/plain": [
       "<Figure size 432x288 with 1 Axes>"
      ]
     },
     "metadata": {
      "needs_background": "light"
     },
     "output_type": "display_data"
    }
   ],
   "source": [
    "# Naive-Bayes\n",
    "GNB = naive_bayes(new_data, \"Effectiveness Mod\")"
   ]
  },
  {
   "cell_type": "code",
   "execution_count": 56,
   "metadata": {},
   "outputs": [
    {
     "name": "stdout",
     "output_type": "stream",
     "text": [
      "\n",
      "Accuracy: 0.91\n",
      "\n",
      "Micro Precision: 0.91\n",
      "Micro Recall: 0.91\n",
      "Micro F1-score: 0.91\n",
      "\n",
      "Macro Precision: 0.45\n",
      "Macro Recall: 0.50\n",
      "Macro F1-score: 0.48\n",
      "\n",
      "Weighted Precision: 0.83\n",
      "Weighted Recall: 0.91\n",
      "Weighted F1-score: 0.87\n",
      "\n",
      "Classification Report\n",
      "\n",
      "              precision    recall  f1-score   support\n",
      "\n",
      "           0       0.00      0.00      0.00        33\n",
      "           1       0.91      1.00      0.95       333\n",
      "\n",
      "    accuracy                           0.91       366\n",
      "   macro avg       0.45      0.50      0.48       366\n",
      "weighted avg       0.83      0.91      0.87       366\n",
      "\n"
     ]
    },
    {
     "data": {
      "image/png": "[encoded data removed]",
      "text/plain": [
       "<Figure size 432x288 with 2 Axes>"
      ]
     },
     "metadata": {
      "needs_background": "light"
     },
     "output_type": "display_data"
    },
    {
     "data": {
      "image/png": "[encoded data removed]",
      "text/plain": [
       "<Figure size 432x288 with 1 Axes>"
      ]
     },
     "metadata": {
      "needs_background": "light"
     },
     "output_type": "display_data"
    }
   ],
   "source": [
    "# SVM\n",
    "SVM = support_vector(new_data, \"Effectiveness Mod\")"
   ]
  },
  {
   "cell_type": "code",
   "execution_count": 35,
   "metadata": {},
   "outputs": [
    {
     "name": "stdout",
     "output_type": "stream",
     "text": [
      "Confusion Matrix\n",
      "\n",
      "[[ 50   0]\n",
      " [  0 316]]\n",
      "\n",
      "Accuracy: 1.00\n",
      "\n",
      "Micro Precision: 1.00\n",
      "Micro Recall: 1.00\n",
      "Micro F1-score: 1.00\n",
      "\n",
      "Macro Precision: 1.00\n",
      "Macro Recall: 1.00\n",
      "Macro F1-score: 1.00\n",
      "\n",
      "Weighted Precision: 1.00\n",
      "Weighted Recall: 1.00\n",
      "Weighted F1-score: 1.00\n",
      "\n",
      "Classification Report\n",
      "\n",
      "              precision    recall  f1-score   support\n",
      "\n",
      "           0       1.00      1.00      1.00        50\n",
      "           1       1.00      1.00      1.00       316\n",
      "\n",
      "    accuracy                           1.00       366\n",
      "   macro avg       1.00      1.00      1.00       366\n",
      "weighted avg       1.00      1.00      1.00       366\n",
      "\n"
     ]
    },
    {
     "data": {
      "image/png": "[encoded data removed]",
      "text/plain": [
       "<Figure size 432x288 with 2 Axes>"
      ]
     },
     "metadata": {
      "needs_background": "light"
     },
     "output_type": "display_data"
    },
    {
     "data": {
      "image/png": "[encoded data removed]",
      "text/plain": [
       "<Figure size 432x288 with 1 Axes>"
      ]
     },
     "metadata": {
      "needs_background": "light"
     },
     "output_type": "display_data"
    }
   ],
   "source": [
    "# Decision Tree\n",
    "DT = decision_tree(new_data, \"Effectiveness Mod\")"
   ]
  },
  {
   "cell_type": "code",
   "execution_count": 28,
   "metadata": {},
   "outputs": [
    {
     "name": "stdout",
     "output_type": "stream",
     "text": [
      "Confusion Matrix\n",
      "\n",
      "[[ 46   0]\n",
      " [  0 320]]\n",
      "\n",
      "Accuracy: 1.00\n",
      "\n",
      "Micro Precision: 1.00\n",
      "Micro Recall: 1.00\n",
      "Micro F1-score: 1.00\n",
      "\n",
      "Macro Precision: 1.00\n",
      "Macro Recall: 1.00\n",
      "Macro F1-score: 1.00\n",
      "\n",
      "Weighted Precision: 1.00\n",
      "Weighted Recall: 1.00\n",
      "Weighted F1-score: 1.00\n",
      "\n",
      "Classification Report\n",
      "\n",
      "              precision    recall  f1-score   support\n",
      "\n",
      "           0       1.00      1.00      1.00        46\n",
      "           1       1.00      1.00      1.00       320\n",
      "\n",
      "    accuracy                           1.00       366\n",
      "   macro avg       1.00      1.00      1.00       366\n",
      "weighted avg       1.00      1.00      1.00       366\n",
      "\n"
     ]
    },
    {
     "data": {
      "image/png": "[encoded data removed]",
      "text/plain": [
       "<Figure size 432x288 with 2 Axes>"
      ]
     },
     "metadata": {
      "needs_background": "light"
     },
     "output_type": "display_data"
    },
    {
     "data": {
      "image/png": "[encoded data removed]",
      "text/plain": [
       "<Figure size 432x288 with 1 Axes>"
      ]
     },
     "metadata": {
      "needs_background": "light"
     },
     "output_type": "display_data"
    }
   ],
   "source": [
    "# Random Forest\n",
    "RF = random_forest(new_data, \"Effectiveness Mod\")"
   ]
  },
  {
   "cell_type": "code",
   "execution_count": 1,
   "metadata": {},
   "outputs": [
    {
     "ename": "NameError",
     "evalue": "name 'hybridize' is not defined",
     "output_type": "error",
     "traceback": [
      "\u001b[0;31m---------------------------------------------------------------------------\u001b[0m",
      "\u001b[0;31mNameError\u001b[0m                                 Traceback (most recent call last)",
      "\u001b[0;32m<ipython-input-1-ffadb333c1a1>\u001b[0m in \u001b[0;36m<module>\u001b[0;34m\u001b[0m\n\u001b[0;32m----> 1\u001b[0;31m \u001b[0mhybridize\u001b[0m\u001b[0;34m(\u001b[0m\u001b[0mLR\u001b[0m\u001b[0;34m,\u001b[0m \u001b[0mSVM\u001b[0m\u001b[0;34m,\u001b[0m \u001b[0mDT\u001b[0m\u001b[0;34m,\u001b[0m \u001b[0mRF\u001b[0m\u001b[0;34m)\u001b[0m\u001b[0;34m\u001b[0m\u001b[0;34m\u001b[0m\u001b[0m\n\u001b[0m",
      "\u001b[0;31mNameError\u001b[0m: name 'hybridize' is not defined"
     ]
    }
   ],
   "source": [
    "hybridize(LR, SVM, DT, RF)"
   ]
  },
  {
   "cell_type": "code",
   "execution_count": null,
   "metadata": {},
   "outputs": [],
   "source": []
  }
 ],
 "metadata": {
  "kernelspec": {
   "display_name": "Python 3",
   "language": "python",
   "name": "python3"
  },
  "language_info": {
   "codemirror_mode": {
    "name": "ipython",
    "version": 3
   },
   "file_extension": ".py",
   "mimetype": "text/x-python",
   "name": "python",
   "nbconvert_exporter": "python",
   "pygments_lexer": "ipython3",
   "version": "3.8.5"
  }
 },
 "nbformat": 4,
 "nbformat_minor": 4
}
